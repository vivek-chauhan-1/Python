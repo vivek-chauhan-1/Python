{
 "cells": [
  {
   "cell_type": "code",
   "execution_count": 1,
   "metadata": {},
   "outputs": [],
   "source": [
    "import re,collections"
   ]
  },
  {
   "cell_type": "code",
   "execution_count": 3,
   "metadata": {},
   "outputs": [],
   "source": [
    "f=open(r\"C:\\Users\\vivek\\Desktop\\new.txt\",\"r\")"
   ]
  },
  {
   "cell_type": "code",
   "execution_count": 39,
   "metadata": {},
   "outputs": [
    {
     "name": "stdout",
     "output_type": "stream",
     "text": [
      "OrderedDict([('', ''), ('\\t\\t\\t', '\\t\\t\\t'), (': ABCD\\n', ':1/1/1\\n')])\n",
      "OrderedDict([('', ''), ('\\t\\t\\t', '\\t\\t\\t'), (': EFGH\\n', ':1/1/2\\n')])\n",
      "OrderedDict([('', ''), ('\\t\\t\\t', '\\t\\t\\t'), (': IJKL\\n', ':1/1/3\\n')])\n"
     ]
    }
   ],
   "source": [
    "f=open(r\"C:\\Users\\vivek\\Desktop\\new.txt\",\"r\")\n",
    "commands=[\"show port detail\"]\n",
    "fields=[\"Description\",\"Interface\",\"link-level\"]\n",
    "          \n",
    "info=collections.OrderedDict()\n",
    "command=''\n",
    "section=''          \n",
    "take_next_line=0\n",
    "for line in f:\n",
    "    #print(line)\n",
    "    for item in commands :\n",
    "          desc=re.search(\"Description\",line)\n",
    "          if desc and desc not in info.keys():\n",
    "              desc=re.split(\"Description(\\s+)\",line)\n",
    "              \n",
    "              for line in f:\n",
    "                  inter=re.search(\"Interface\",line)\n",
    "                  if inter and inter not in info.values():\n",
    "                    inter=re.split(\"Interface(\\s+)\",line)\n",
    "                    info=collections.OrderedDict(zip(desc,inter))\n",
    "                    print(info)\n",
    "                    #print(info.keys())\n",
    "                    \n",
    "                    #print(info.values())\n",
    "                    break\n",
    "                    \n",
    "                    \n",
    "                    "
   ]
  },
  {
   "cell_type": "code",
   "execution_count": null,
   "metadata": {},
   "outputs": [],
   "source": []
  },
  {
   "cell_type": "code",
   "execution_count": null,
   "metadata": {},
   "outputs": [],
   "source": []
  }
 ],
 "metadata": {
  "kernelspec": {
   "display_name": "Python 3",
   "language": "python",
   "name": "python3"
  },
  "language_info": {
   "codemirror_mode": {
    "name": "ipython",
    "version": 3
   },
   "file_extension": ".py",
   "mimetype": "text/x-python",
   "name": "python",
   "nbconvert_exporter": "python",
   "pygments_lexer": "ipython3",
   "version": "3.7.3"
  }
 },
 "nbformat": 4,
 "nbformat_minor": 2
}
