{
 "cells": [
  {
   "cell_type": "code",
   "execution_count": 6,
   "metadata": {},
   "outputs": [],
   "source": [
    "import tkinter as tk\n",
    "from tkinter import ttk\n",
    "win=tk.Tk()\n",
    "win.title(\"Python GUI\")\n",
    "#win.resizable(0,0)\n",
    "\n",
    "aLabel=ttk.Label(win,text=\"A Label\")\n",
    "aLabel.grid(column=0,row=0)\n",
    "\n",
    "def clickMe():\n",
    "    action.configure(text='hello' + name.get())\n",
    "    \n",
    "    \n",
    "ttk.Label(win,text=\"enter a name:\").grid(column=0,row=0)\n",
    "\n",
    "name=tk.StringVar()\n",
    "nameEntered=ttk.Entry(win, width=12, textvariable=name)\n",
    "nameEntered.grid(column=0,row=1)\n",
    "    #aLabel.configure(foreground='red')\n",
    "    #aLabel.configure(text='A red Label')\n",
    "    \n",
    "    \n",
    "action=ttk.Button(win, text=\"Click me!!\",command=clickMe )\n",
    "action.grid(column=1,row=1)\n",
    "    \n",
    "win.mainloop()\n"
   ]
  },
  {
   "cell_type": "code",
   "execution_count": null,
   "metadata": {},
   "outputs": [],
   "source": []
  },
  {
   "cell_type": "code",
   "execution_count": null,
   "metadata": {},
   "outputs": [],
   "source": []
  }
 ],
 "metadata": {
  "kernelspec": {
   "display_name": "Python 3",
   "language": "python",
   "name": "python3"
  },
  "language_info": {
   "codemirror_mode": {
    "name": "ipython",
    "version": 3
   },
   "file_extension": ".py",
   "mimetype": "text/x-python",
   "name": "python",
   "nbconvert_exporter": "python",
   "pygments_lexer": "ipython3",
   "version": "3.7.3"
  }
 },
 "nbformat": 4,
 "nbformat_minor": 2
}
