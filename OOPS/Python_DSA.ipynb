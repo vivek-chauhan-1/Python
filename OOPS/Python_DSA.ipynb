{
 "cells": [
  {
   "cell_type": "code",
   "execution_count": 11,
   "metadata": {},
   "outputs": [],
   "source": [
    "class Progression:\n",
    "    def __init__(self,start=0):\n",
    "        self._current=start\n",
    "    def _advance(self):\n",
    "        self._current+=1\n",
    "    def __next__(self):\n",
    "        if self._current is None:\n",
    "            raise Stopiteration()\n",
    "        else:\n",
    "            answer=self._current\n",
    "            self._advance()\n",
    "            return answer\n",
    "    def __iter__(self):\n",
    "        return self\n",
    "    def print_progression(self,n):\n",
    "        print(' '.join(str(next(self)) for j in range(n)))"
   ]
  },
  {
   "cell_type": "code",
   "execution_count": 13,
   "metadata": {},
   "outputs": [],
   "source": [
    "class AirthmeticProgression(Progression):\n",
    "    def __init__(self,increment=1,start=0):\n",
    "        super().__init__(start)\n",
    "        self._increment=increment\n",
    "    def _advance(self):\n",
    "        self._current+=self._increment"
   ]
  },
  {
   "cell_type": "code",
   "execution_count": 14,
   "metadata": {},
   "outputs": [],
   "source": [
    "class GeometricProgression(Progression):\n",
    "    def __init__(self,base=2,start=1):\n",
    "        super().__init__(start)\n",
    "        self._base=base\n",
    "    def _advance(self):\n",
    "        self._current*=self._base"
   ]
  },
  {
   "cell_type": "code",
   "execution_count": 15,
   "metadata": {},
   "outputs": [],
   "source": [
    "class FibonacciProgression(Progression):\n",
    "    def __init__(self,first=0,second=1):\n",
    "        super().__init__(first)\n",
    "        self._prev=second-first\n",
    "    def _advance(self):\n",
    "        self._prev,self._current=self._current,self._prev+self._current"
   ]
  },
  {
   "cell_type": "code",
   "execution_count": 16,
   "metadata": {},
   "outputs": [
    {
     "name": "stdout",
     "output_type": "stream",
     "text": [
      "Default progression:\n",
      "0 1 2 3 4 5 6 7 8 9\n",
      "Airthmetic progression with increment 5:\n",
      "0 5 10 15 20 25 30 35 40 45\n",
      "Airthmetic progression with increment 5 and start 2:\n",
      "2 7 12 17 22 27 32 37 42 47\n",
      "Geometric progression with default base :\n",
      "1 2 4 8 16 32 64 128 256 512\n",
      "Geometric progression with base 3:\n",
      "1 3 9 27 81 243 729 2187 6561 19683\n",
      "Fibonacci progression with default start values:\n",
      "0 1 1 2 3 5 8 13 21 34\n",
      "Fibonacci progression with start values 4 and 6:\n",
      "4 6 10 16 26 42 68 110 178 288\n"
     ]
    }
   ],
   "source": [
    "if __name__=='__main__':\n",
    "    print(\"Default progression:\")\n",
    "    Progression().print_progression(10)\n",
    "    \n",
    "    print(\"Airthmetic progression with increment 5:\")\n",
    "    AirthmeticProgression(5).print_progression(10)\n",
    "    \n",
    "    print(\"Airthmetic progression with increment 5 and start 2:\")\n",
    "    AirthmeticProgression(5,2).print_progression(10)\n",
    "\n",
    "    print(\"Geometric progression with default base :\")\n",
    "    GeometricProgression().print_progression(10)\n",
    "    \n",
    "    print(\"Geometric progression with base 3:\")\n",
    "    GeometricProgression(3).print_progression(10)\n",
    "    \n",
    "    print(\"Fibonacci progression with default start values:\")\n",
    "    FibonacciProgression().print_progression(10)\n",
    "    \n",
    "    print(\"Fibonacci progression with start values 4 and 6:\")\n",
    "    FibonacciProgression(4,6).print_progression(10)\n",
    "    "
   ]
  },
  {
   "cell_type": "code",
   "execution_count": 20,
   "metadata": {},
   "outputs": [],
   "source": [
    "from abc import ABCMeta, abstractmethod\n",
    "\n",
    "class Sequence(metaclass=ABCMeta):\n",
    "    @abstractmethod\n",
    "    def __len__(self):\n",
    "        \"\"\"Return length of the sequence\"\"\"\n",
    "    \n",
    "    @abstractmethod\n",
    "    def __getitem__(self,j):\n",
    "        \"\"\"Return the element at index j of the sequence\"\"\"\n",
    "        \n",
    "    def __contains__(self,val):\n",
    "        for j in range(len(self)):\n",
    "            if self[j]==val:\n",
    "                return True\n",
    "        return False\n",
    "    \n",
    "    def index(self,val):\n",
    "        for j in range(len(self)):\n",
    "            if self[j]==val:\n",
    "                return j\n",
    "        raise ValueError('Value not in sequence')\n",
    "        \n",
    "    def count(self,val):\n",
    "        k=0\n",
    "        for j in range(len(self)):\n",
    "            if self[j]==val:\n",
    "                k +=1\n",
    "        return k"
   ]
  },
  {
   "cell_type": "code",
   "execution_count": 21,
   "metadata": {},
   "outputs": [
    {
     "data": {
      "text/plain": [
       "[0, 0, 0, 0, 0, 0, 0, 0, 0]"
      ]
     },
     "execution_count": 21,
     "metadata": {},
     "output_type": "execute_result"
    }
   ],
   "source": [
    "hospital=[0]*9\n",
    "hospital"
   ]
  },
  {
   "cell_type": "code",
   "execution_count": 22,
   "metadata": {},
   "outputs": [
    {
     "data": {
      "text/plain": [
       "[0, 0, 'R', 'a', 'm', 0, 0, 0, 0]"
      ]
     },
     "execution_count": 22,
     "metadata": {},
     "output_type": "execute_result"
    }
   ],
   "source": [
    "hospital[2:5]=\"Ram\"\n",
    "hospital"
   ]
  },
  {
   "cell_type": "code",
   "execution_count": 23,
   "metadata": {},
   "outputs": [
    {
     "data": {
      "text/plain": [
       "['Ram', 'Raj', 'Rohan', 'R', 'a', 'm', 0, 0, 0, 0]"
      ]
     },
     "execution_count": 23,
     "metadata": {},
     "output_type": "execute_result"
    }
   ],
   "source": [
    "hospital[0:2]=\"Ram\",\"Raj\",\"Rohan\"\n",
    "hospital"
   ]
  },
  {
   "cell_type": "code",
   "execution_count": 24,
   "metadata": {},
   "outputs": [
    {
     "data": {
      "text/plain": [
       "(['a', 'm'], ['Ram', 'Raj', 'Rohan', 'R', 'a', 'm', 0, 0, 0, 0])"
      ]
     },
     "execution_count": 24,
     "metadata": {},
     "output_type": "execute_result"
    }
   ],
   "source": [
    "temp=hospital[4:6]\n",
    "temp,hospital"
   ]
  },
  {
   "cell_type": "code",
   "execution_count": 26,
   "metadata": {},
   "outputs": [
    {
     "data": {
      "text/plain": [
       "(['a', 'o'], ['Ram', 'Raj', 'Rohan', 'R', 'a', 'm', 0, 0, 0, 0])"
      ]
     },
     "execution_count": 26,
     "metadata": {},
     "output_type": "execute_result"
    }
   ],
   "source": [
    "temp[1]=\"o\"\n",
    "temp,hospital"
   ]
  },
  {
   "cell_type": "code",
   "execution_count": 28,
   "metadata": {},
   "outputs": [
    {
     "data": {
      "text/plain": [
       "400"
      ]
     },
     "execution_count": 28,
     "metadata": {},
     "output_type": "execute_result"
    }
   ],
   "source": [
    "import sys\n",
    "sys.getsizeof(int)"
   ]
  },
  {
   "cell_type": "code",
   "execution_count": 32,
   "metadata": {},
   "outputs": [
    {
     "data": {
      "text/plain": [
       "array([ 2,  3,  5,  7, 11, 13])"
      ]
     },
     "execution_count": 32,
     "metadata": {},
     "output_type": "execute_result"
    }
   ],
   "source": [
    "import numpy as np\n",
    "np.array([2,3,5,7,11,13])"
   ]
  },
  {
   "cell_type": "code",
   "execution_count": 34,
   "metadata": {},
   "outputs": [
    {
     "name": "stdout",
     "output_type": "stream",
     "text": [
      "Length:   0; Size in bytes:   64\n",
      "Length:   1; Size in bytes:   96\n",
      "Length:   2; Size in bytes:   96\n",
      "Length:   3; Size in bytes:   96\n",
      "Length:   4; Size in bytes:   96\n",
      "Length:   5; Size in bytes:  128\n",
      "Length:   6; Size in bytes:  128\n",
      "Length:   7; Size in bytes:  128\n"
     ]
    }
   ],
   "source": [
    "data=[]\n",
    "for k in range(8):\n",
    "    a=len(data)\n",
    "    b=sys.getsizeof(data)\n",
    "    print('Length: {0:3d}; Size in bytes: {1:4d}'.format(a,b))\n",
    "    data.append(None)"
   ]
  },
  {
   "cell_type": "code",
   "execution_count": 1,
   "metadata": {},
   "outputs": [],
   "source": [
    "class Empty(Exception):\n",
    "    \"\"\"Error attempting to access an element from an empty conatainer\"\"\"\n",
    "    pass"
   ]
  },
  {
   "cell_type": "code",
   "execution_count": 36,
   "metadata": {},
   "outputs": [],
   "source": [
    "class ArrayStack:\n",
    "    \"\"\"LIFO Stack implementation using a Python list as underlying storage\"\"\"\n",
    "    \n",
    "    def __init__(self):\n",
    "        \"\"\"Creates an empty stack\"\"\"\n",
    "        self._data=[]\n",
    "    \n",
    "    def __len__(self):\n",
    "        \"\"\"Return the number of elements in the stack\"\"\"\n",
    "        return len(self._data)\n",
    "    \n",
    "    def is_empty(self):\n",
    "        \"\"\"Return True if the stack is empty\"\"\"\n",
    "        return len(self._data)==0\n",
    "    \n",
    "    def push(self,e):\n",
    "        \"\"\"Add element e to the the top of the stack\"\"\"\n",
    "        self._data.append(e)\n",
    "        \n",
    "    def top(self):\n",
    "        \"\"\"Retur (but do not remove) the element at the top of stack\n",
    "        \n",
    "        Raise Empty exception if the stack is empty\n",
    "        \"\"\"\n",
    "        if self.is_empty():\n",
    "            raise Empty(\"Stack is empty\")\n",
    "        return self._data[-1]\n",
    "    \n",
    "    def pop(self):\n",
    "        \"\"\"Remove and return the element from the top of the stack\n",
    "        \n",
    "        Raise Empty exception if stack is empty\n",
    "        \"\"\"\n",
    "        if self.is_empty():\n",
    "            raise Empty('Stack is empty')\n",
    "        return self._data.pop()"
   ]
  },
  {
   "cell_type": "code",
   "execution_count": 40,
   "metadata": {},
   "outputs": [
    {
     "data": {
      "text/plain": [
       "<__main__.ArrayStack at 0x21840b12eb8>"
      ]
     },
     "execution_count": 40,
     "metadata": {},
     "output_type": "execute_result"
    }
   ],
   "source": [
    "S=ArrayStack()\n",
    "S.push(5)\n",
    "S"
   ]
  },
  {
   "cell_type": "code",
   "execution_count": 44,
   "metadata": {},
   "outputs": [
    {
     "name": "stdout",
     "output_type": "stream",
     "text": [
      "7\n",
      "None\n",
      "None\n"
     ]
    }
   ],
   "source": [
    "print(S.top())\n",
    "print(S.push(7))\n",
    "print(S.push(11))"
   ]
  },
  {
   "cell_type": "code",
   "execution_count": 46,
   "metadata": {},
   "outputs": [
    {
     "data": {
      "text/plain": [
       "11"
      ]
     },
     "execution_count": 46,
     "metadata": {},
     "output_type": "execute_result"
    }
   ],
   "source": [
    "S.pop()"
   ]
  },
  {
   "cell_type": "code",
   "execution_count": 53,
   "metadata": {},
   "outputs": [],
   "source": [
    "def reverse_array(arr):\n",
    "    a=[]\n",
    "    for i in range(len(arr)):\n",
    "        a.append(arr.pop())\n",
    "    return a"
   ]
  },
  {
   "cell_type": "code",
   "execution_count": 54,
   "metadata": {},
   "outputs": [
    {
     "data": {
      "text/plain": [
       "[10, 8, 6, 4, 2]"
      ]
     },
     "execution_count": 54,
     "metadata": {},
     "output_type": "execute_result"
    }
   ],
   "source": [
    "reverse_array([2,4,6,8,10])"
   ]
  },
  {
   "cell_type": "code",
   "execution_count": 1,
   "metadata": {},
   "outputs": [],
   "source": [
    "class _Node:\n",
    "    __slots__='element','_next'\n",
    "    \n",
    "    def __init__(self,element,next):\n",
    "        self._element=element\n",
    "        self._next=next"
   ]
  },
  {
   "cell_type": "code",
   "execution_count": 34,
   "metadata": {},
   "outputs": [],
   "source": [
    "class LinkedStack:\n",
    "    class _Node:\n",
    "        __slots__='_element','_next'\n",
    "\n",
    "        def __init__(self,element,next):\n",
    "            self._element=element\n",
    "            self._next=next\n",
    "        \n",
    "    def __init__(self):\n",
    "        self._head=None\n",
    "        self._size=0\n",
    "    \n",
    "    def __len__(self):\n",
    "        return self._size\n",
    "    \n",
    "    def is_empty(self):\n",
    "        return self._size==0\n",
    "    \n",
    "    def push(self,e):\n",
    "        self._head=self._Node(e,self._head)\n",
    "        self._size+=1\n",
    "    \n",
    "    def top(self):\n",
    "        if self.is_empty():\n",
    "            raise Empty('Stack is empty')\n",
    "        return self._head._element\n",
    "    \n",
    "    def pop(self):\n",
    "        if self.is_empty():\n",
    "            raise Empty('stack is empty')\n",
    "        answer=self._head._element\n",
    "        self._head = self._head._next\n",
    "        self._size -= 1\n",
    "        return answer"
   ]
  },
  {
   "cell_type": "code",
   "execution_count": 35,
   "metadata": {},
   "outputs": [
    {
     "data": {
      "text/plain": [
       "<__main__.LinkedStack at 0x1cbac1e37f0>"
      ]
     },
     "execution_count": 35,
     "metadata": {},
     "output_type": "execute_result"
    }
   ],
   "source": [
    "S=LinkedStack()\n",
    "S"
   ]
  },
  {
   "cell_type": "code",
   "execution_count": 42,
   "metadata": {},
   "outputs": [
    {
     "data": {
      "text/plain": [
       "5"
      ]
     },
     "execution_count": 42,
     "metadata": {},
     "output_type": "execute_result"
    }
   ],
   "source": [
    "S.push(5)\n",
    "S.pop()"
   ]
  },
  {
   "cell_type": "code",
   "execution_count": 37,
   "metadata": {},
   "outputs": [],
   "source": [
    "class Node:\n",
    "    __slots__='_element','_next'\n",
    "\n",
    "    def __init__(self,element,next):\n",
    "        self._element=element\n",
    "        self._next=next\n",
    "    "
   ]
  },
  {
   "cell_type": "code",
   "execution_count": 31,
   "metadata": {},
   "outputs": [
    {
     "data": {
      "text/plain": [
       "(3, <function next>)"
      ]
     },
     "execution_count": 31,
     "metadata": {},
     "output_type": "execute_result"
    }
   ],
   "source": [
    "newest=Node(3,next)\n",
    "newest._element,newest._next"
   ]
  },
  {
   "cell_type": "code",
   "execution_count": 33,
   "metadata": {},
   "outputs": [
    {
     "data": {
      "text/plain": [
       "False"
      ]
     },
     "execution_count": 33,
     "metadata": {},
     "output_type": "execute_result"
    }
   ],
   "source": [
    "def is_empty(size):\n",
    "    return size==0\n",
    "is_empty(3)"
   ]
  },
  {
   "cell_type": "code",
   "execution_count": 59,
   "metadata": {},
   "outputs": [],
   "source": [
    "class LinkedQueue:\n",
    "    \n",
    "    class _Node:\n",
    "        __slots__='_element','_next'\n",
    "    \n",
    "        def __init__(self,element,next):\n",
    "            self._element=element\n",
    "            self._next=next\n",
    "    \n",
    "    def __init__(self):\n",
    "        self._head=None\n",
    "        self._tail=None\n",
    "        self._size=0\n",
    "    \n",
    "    def __len__(self):\n",
    "        return self._size\n",
    "    \n",
    "    def is_empty(self):\n",
    "        return self._size==0\n",
    "    \n",
    "    def first(self):\n",
    "        if self.is_empty():\n",
    "            raise Empty('Queue is empty')\n",
    "        return self._head._element\n",
    "\n",
    "    def dequeue(self):\n",
    "        if self.is_empty():\n",
    "            raise Empty('Queue is empty')\n",
    "        answer=self._head._element\n",
    "        self._head=self._head._next\n",
    "        self._size-=1\n",
    "        if self.is_empty():\n",
    "            self._tail=None\n",
    "        return answer\n",
    "    \n",
    "    def enqueue(self,e):\n",
    "        newest=self._Node(e,None)\n",
    "        if self.is_empty():\n",
    "            self._head=newest\n",
    "        else:\n",
    "            self._tail._next=newest\n",
    "        self._tail=newest\n",
    "        self._size+=1"
   ]
  },
  {
   "cell_type": "code",
   "execution_count": 60,
   "metadata": {},
   "outputs": [
    {
     "data": {
      "text/plain": [
       "<__main__.LinkedQueue at 0x1cbac1cadd8>"
      ]
     },
     "execution_count": 60,
     "metadata": {},
     "output_type": "execute_result"
    }
   ],
   "source": [
    "l=LinkedQueue()\n",
    "l"
   ]
  },
  {
   "cell_type": "code",
   "execution_count": 61,
   "metadata": {},
   "outputs": [],
   "source": [
    "l.enqueue(3)"
   ]
  },
  {
   "cell_type": "code",
   "execution_count": 62,
   "metadata": {},
   "outputs": [
    {
     "data": {
      "text/plain": [
       "3"
      ]
     },
     "execution_count": 62,
     "metadata": {},
     "output_type": "execute_result"
    }
   ],
   "source": [
    "l.first()"
   ]
  },
  {
   "cell_type": "code",
   "execution_count": 65,
   "metadata": {},
   "outputs": [],
   "source": [
    "class CircularQueue:\n",
    "    \n",
    "    class _Node:\n",
    "        __slots__='_element','_next'\n",
    "    \n",
    "        def __init__(self,element,next):\n",
    "            self._element=element\n",
    "            self._next=next\n",
    "    \n",
    "    def __init__(self):\n",
    "        self._tail=None\n",
    "        self._size=0\n",
    "    \n",
    "    def __len__(self):\n",
    "        return self._size\n",
    "    \n",
    "    def is_empty(self):\n",
    "        return self._size==0\n",
    "    \n",
    "    def first(self):\n",
    "        if self.is_empty():\n",
    "            raise Empty('Queue is empty')\n",
    "        head=self._tail._next\n",
    "        return head._element\n",
    "    \n",
    "    def dequeue(self):\n",
    "        if self.is_empty():\n",
    "            raise Empty('Queue is empty')\n",
    "        oldhead=self._tail._next\n",
    "        if self._size==1:\n",
    "            self._tail=None\n",
    "        else:\n",
    "            self._tail._next=oldhead._next\n",
    "        self._size -= 1\n",
    "        return oldhead._element\n",
    "\n",
    "    def enqueue(self,e):\n",
    "        newest=self._Node(e,None)\n",
    "        if self.is_empty():\n",
    "            newest._next=newest\n",
    "        else:\n",
    "            newest._next=self._tail._next\n",
    "            self._tail._next=newest\n",
    "        self._tail=newest\n",
    "        self._size+=1\n",
    "\n",
    "    def rotate(self):\n",
    "        if self._size>0:\n",
    "            self._tail=self._tail._next"
   ]
  },
  {
   "cell_type": "code",
   "execution_count": 66,
   "metadata": {},
   "outputs": [
    {
     "name": "stdout",
     "output_type": "stream",
     "text": [
      "None\n",
      "None\n",
      "4\n",
      "None\n",
      "False\n",
      "3\n",
      "4\n"
     ]
    }
   ],
   "source": [
    "c=CircularQueue()\n",
    "print(c.enqueue(4))\n",
    "print(c.enqueue(3))\n",
    "print(c.first())\n",
    "print(c.rotate())\n",
    "print(c.is_empty())\n",
    "print(c.dequeue())\n",
    "print(c.dequeue())"
   ]
  },
  {
   "cell_type": "code",
   "execution_count": 2,
   "metadata": {},
   "outputs": [],
   "source": [
    "class _DoublyLinkedBase:\n",
    "    class _Node:\n",
    "        __slots__='_element','_prev','_next'\n",
    "        \n",
    "        def __init__(self,element,prev,next):\n",
    "            self._element=element\n",
    "            self._prev=prev\n",
    "            self._next=next\n",
    "            \n",
    "    def __init__(self):\n",
    "        self._header=self._Node(None,None,None)\n",
    "        self._trailer=self._Node(None,None,None)\n",
    "        self._header._next=self._trailer\n",
    "        self._trailer._prev=self._header\n",
    "        self._size=0\n",
    "        \n",
    "    def __len__(self):\n",
    "        return self._size\n",
    "    \n",
    "    def is_empty(self):\n",
    "        return self._size==0\n",
    "    \n",
    "    def _insert_between(self,e,predecessor,successor):\n",
    "        newest=self._Node(e,predecessor,successor)\n",
    "        predecessor._next=newest\n",
    "        successor._prev=newest\n",
    "        self._size+=1\n",
    "        return newest\n",
    "    \n",
    "    def _delete_node(self,node):\n",
    "        predecessor=node._prev\n",
    "        successor=node._next\n",
    "        predecessor._next=successor\n",
    "        successor._prev=predecessor\n",
    "        self._size-=1\n",
    "        element=node._element\n",
    "        node._prev=node._next=node._element =None\n",
    "        return element"
   ]
  },
  {
   "cell_type": "code",
   "execution_count": 3,
   "metadata": {},
   "outputs": [],
   "source": [
    "class DoublyLinkedDequeue(_DoublyLinkedBase):\n",
    "    \n",
    "    def first(self):\n",
    "        if self.is_empty():\n",
    "            raise Empty('Deque is empty')\n",
    "        return self._header._next._element\n",
    "    \n",
    "    def last(self):\n",
    "        if self.is_empty():\n",
    "            raise Empty('Deque is empty')\n",
    "        return self._trailer._prev._element\n",
    "    \n",
    "    def insert_first(self,e):\n",
    "        self._insert_between(e,self._header,self._header._next)\n",
    "        \n",
    "    def inser_last(self,e):\n",
    "        self._insert_between(e,self._trailer._prev,self._trailer)\n",
    "        \n",
    "    def delete_first(self):\n",
    "        if self.is_empty():\n",
    "            raise Empty('Deque is empty')\n",
    "        return self._delete_node(self._header._next)\n",
    "    \n",
    "    def delete_last(self):\n",
    "        if self.is_empty():\n",
    "            raise Empty('Deque is empty')\n",
    "        return self._delete_node(self._trailer._prev)"
   ]
  },
  {
   "cell_type": "code",
   "execution_count": 5,
   "metadata": {},
   "outputs": [],
   "source": [
    "class PositionalList(_DoublyLinkedBase):\n",
    "    \n",
    "    class Position:\n",
    "        \n",
    "        def __init__(self,container,node):\n",
    "            self._container=container\n",
    "            self._node=node\n",
    "            \n",
    "        def element(self):\n",
    "            return self._node._element\n",
    "        \n",
    "        def __eq__(self,other):\n",
    "            return type(other) is type(self) and other._node is self._node\n",
    "        \n",
    "        def __ne__(self,other):\n",
    "            return not(self == other)\n",
    "        \n",
    "    def _validate(self,p):\n",
    "        if not isinstance(p,self.Position):\n",
    "            raise TypeError('p must be proper Position type')\n",
    "        if p._container is not self:\n",
    "            raise ValueError('p does not belong to this container')\n",
    "        if p._node._next is None:\n",
    "            raise ValueError('p is no longer valid')\n",
    "        return p._node\n",
    "\n",
    "    def _make_position(self,node):\n",
    "        if node is self._header or node is self._trailer:\n",
    "            return None\n",
    "        else:\n",
    "            return self.Position(self,node)\n",
    "    \n",
    "    def first(self):\n",
    "        return self._make_position(self._header._next)\n",
    "    \n",
    "    def last(self):\n",
    "        return self._make_position(self._trailer._prev)\n",
    "    \n",
    "    def before(self,p):\n",
    "        node=self._validate(p)\n",
    "        return self._make_position(node._prev)\n",
    "    \n",
    "    def after(self,p):\n",
    "        node=self._validate(p)\n",
    "        return self._make_position(node._next)\n",
    "    \n",
    "    def __iter__(self):\n",
    "        cursor=self.first()\n",
    "        while cursor is not None:\n",
    "            yield cursor.element()\n",
    "            cursor=self.after(cursor)\n",
    "            \n",
    "    def _insert_between(self,e,predecessor,successor):\n",
    "        node=super()._insert_between(e,predecessor,successor)\n",
    "        return self._make_position(node)\n",
    "    \n",
    "    def add_first(self,e):\n",
    "        return self._insert_between(e,self._header,self._header._next)\n",
    "    \n",
    "    def add_last(self,e):\n",
    "        return self._insert_between(e,self._trailer._prev,self._trailer)\n",
    "    \n",
    "    def add_before(self,p,e):\n",
    "        original=self._validate(p)\n",
    "        return self._insert_between(e,original._prev,original)\n",
    "    \n",
    "    def add_after(self,p,e):\n",
    "        original=self._validate(p)\n",
    "        return self._insert_between(e,original,original._next)\n",
    "    \n",
    "    def delete(self,p):\n",
    "        original=self._validate(p)\n",
    "        return self._delete_node(original)\n",
    "    \n",
    "    def replace(self,p,e):\n",
    "        original=self._validate(p)\n",
    "        old_value=original._element\n",
    "        original._element=e\n",
    "        return old_value"
   ]
  },
  {
   "cell_type": "code",
   "execution_count": 15,
   "metadata": {},
   "outputs": [
    {
     "name": "stdout",
     "output_type": "stream",
     "text": [
      "1\n",
      "4\n",
      "9\n",
      "16\n"
     ]
    }
   ],
   "source": [
    "a=map(lambda x : x*x,[1,2,3,4])\n",
    "for i in a:\n",
    "    print(i)"
   ]
  },
  {
   "cell_type": "code",
   "execution_count": 16,
   "metadata": {},
   "outputs": [],
   "source": [
    "import functools\n",
    "li=[1,2,3,4,5]\n",
    "a=functools.reduce(lambda a,b: a+b,li)"
   ]
  },
  {
   "cell_type": "code",
   "execution_count": 17,
   "metadata": {},
   "outputs": [
    {
     "data": {
      "text/plain": [
       "15"
      ]
     },
     "execution_count": 17,
     "metadata": {},
     "output_type": "execute_result"
    }
   ],
   "source": [
    "a"
   ]
  },
  {
   "cell_type": "code",
   "execution_count": null,
   "metadata": {},
   "outputs": [],
   "source": []
  }
 ],
 "metadata": {
  "kernelspec": {
   "display_name": "Python 3",
   "language": "python",
   "name": "python3"
  },
  "language_info": {
   "codemirror_mode": {
    "name": "ipython",
    "version": 3
   },
   "file_extension": ".py",
   "mimetype": "text/x-python",
   "name": "python",
   "nbconvert_exporter": "python",
   "pygments_lexer": "ipython3",
   "version": "3.7.3"
  }
 },
 "nbformat": 4,
 "nbformat_minor": 2
}
