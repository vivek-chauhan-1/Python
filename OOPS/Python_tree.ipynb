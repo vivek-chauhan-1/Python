{
 "cells": [
  {
   "cell_type": "code",
   "execution_count": 8,
   "metadata": {},
   "outputs": [],
   "source": [
    "def binary_search(data,target,low,high):\n",
    "    if low > high:\n",
    "        return False\n",
    "    else:\n",
    "        mid = (low+high)//2\n",
    "        if target == data[mid]:\n",
    "            return data[mid],mid\n",
    "        elif target < data[mid]:\n",
    "            return binary_search(data,target, low, mid-1)\n",
    "        else:\n",
    "            return binary_search(data,target,mid+1,high)"
   ]
  },
  {
   "cell_type": "code",
   "execution_count": 9,
   "metadata": {},
   "outputs": [
    {
     "data": {
      "text/plain": [
       "(66, 9)"
      ]
     },
     "execution_count": 9,
     "metadata": {},
     "output_type": "execute_result"
    }
   ],
   "source": [
    "data=[1,4,5,7,9,10,15,45,56,66,87,99]\n",
    "target=66\n",
    "binary_search(data,target, 0, 12)"
   ]
  },
  {
   "cell_type": "code",
   "execution_count": 10,
   "metadata": {},
   "outputs": [],
   "source": [
    "import os\n",
    "\n",
    "def disk_usage(path):\n",
    "    total=os.path.getsize(path)\n",
    "    if os.path.isdir(path):\n",
    "        for filename in os.listdir(path):\n",
    "            childpath = os.path.join(path,filename)\n",
    "            total += disk_usage(childpath)\n",
    "    print('{0:<7}'.format(total),path)\n",
    "    return total"
   ]
  },
  {
   "cell_type": "code",
   "execution_count": 13,
   "metadata": {},
   "outputs": [
    {
     "name": "stdout",
     "output_type": "stream",
     "text": [
      "40775   C:\\Users\\vivek\\Desktop\\Miscellaneous\\ZS\\invoice_zs_wfh\\bed_table_invoice.pdf\n",
      "47081   C:\\Users\\vivek\\Desktop\\Miscellaneous\\ZS\\invoice_zs_wfh\\cords_invoice.pdf\n",
      "37778   C:\\Users\\vivek\\Desktop\\Miscellaneous\\ZS\\invoice_zs_wfh\\earphone_invoice.pdf\n",
      "261425  C:\\Users\\vivek\\Desktop\\Miscellaneous\\ZS\\invoice_zs_wfh\\fan_invoice-merged.pdf\n",
      "50192   C:\\Users\\vivek\\Desktop\\Miscellaneous\\ZS\\invoice_zs_wfh\\fan_invoice.pdf\n",
      "47230   C:\\Users\\vivek\\Desktop\\Miscellaneous\\ZS\\invoice_zs_wfh\\keyboard_mouseinvoice.pdf\n",
      "46655   C:\\Users\\vivek\\Desktop\\Miscellaneous\\ZS\\invoice_zs_wfh\\laptop_standinvoice.pdf\n",
      "43449   C:\\Users\\vivek\\Desktop\\Miscellaneous\\ZS\\invoice_zs_wfh\\paper_invoice.pdf\n",
      "82496   C:\\Users\\vivek\\Desktop\\Miscellaneous\\ZS\\invoice_zs_wfh\\pen_lamp_earphoneinvoice.pdf\n",
      "52850   C:\\Users\\vivek\\Desktop\\Miscellaneous\\ZS\\invoice_zs_wfh\\printer_cartridge_invoice.pdf\n",
      "6912    C:\\Users\\vivek\\Desktop\\Miscellaneous\\ZS\\invoice_zs_wfh\\vc29628_installation_wifi.pdf\n",
      "448762  C:\\Users\\vivek\\Desktop\\Miscellaneous\\ZS\\invoice_zs_wfh\\vc29628_invoice_wfh.pdf\n",
      "1169701 C:\\Users\\vivek\\Desktop\\Miscellaneous\\ZS\\invoice_zs_wfh\n",
      "215233  C:\\Users\\vivek\\Desktop\\Miscellaneous\\ZS\\ONBOARDING_DOCS\\VC29628_Vivek_Onboarding-Docs\\VC29628_Declaration Form-UAN (PPF)_Vivek.pdf\n",
      "140557  C:\\Users\\vivek\\Desktop\\Miscellaneous\\ZS\\ONBOARDING_DOCS\\VC29628_Vivek_Onboarding-Docs\\VC29628_Documents checklist_Vivek.pdf\n",
      "96916   C:\\Users\\vivek\\Desktop\\Miscellaneous\\ZS\\ONBOARDING_DOCS\\VC29628_Vivek_Onboarding-Docs\\VC29628_Employee details_Vivek.pdf\n",
      "219469  C:\\Users\\vivek\\Desktop\\Miscellaneous\\ZS\\ONBOARDING_DOCS\\VC29628_Vivek_Onboarding-Docs\\VC29628_Form 2- EPF Nomination Form_Vivek.pdf\n",
      "53664   C:\\Users\\vivek\\Desktop\\Miscellaneous\\ZS\\ONBOARDING_DOCS\\VC29628_Vivek_Onboarding-Docs\\VC29628_Gratuity  Form(f)_Vivek.pdf\n",
      "50765   C:\\Users\\vivek\\Desktop\\Miscellaneous\\ZS\\ONBOARDING_DOCS\\VC29628_Vivek_Onboarding-Docs\\VC29628_Group medical insurance form_VIvek.pdf\n",
      "94763   C:\\Users\\vivek\\Desktop\\Miscellaneous\\ZS\\ONBOARDING_DOCS\\VC29628_Vivek_Onboarding-Docs\\VC29628_Personnel Application form_Vivek.pdf\n",
      "875463  C:\\Users\\vivek\\Desktop\\Miscellaneous\\ZS\\ONBOARDING_DOCS\\VC29628_Vivek_Onboarding-Docs\n",
      "771248  C:\\Users\\vivek\\Desktop\\Miscellaneous\\ZS\\ONBOARDING_DOCS\\VC29628_Vivek_Onboarding-Docs.zip\n",
      "531079  C:\\Users\\vivek\\Desktop\\Miscellaneous\\ZS\\ONBOARDING_DOCS\\VC29628_Vivek_Supporting Docs\\VC29628_10th_Vivek.pdf\n",
      "194679  C:\\Users\\vivek\\Desktop\\Miscellaneous\\ZS\\ONBOARDING_DOCS\\VC29628_Vivek_Supporting Docs\\VC29628_12th_Vivek.pdf\n",
      "143137  C:\\Users\\vivek\\Desktop\\Miscellaneous\\ZS\\ONBOARDING_DOCS\\VC29628_Vivek_Supporting Docs\\VC29628_Aadhaar_Vivek.pdf\n",
      "2808855 C:\\Users\\vivek\\Desktop\\Miscellaneous\\ZS\\ONBOARDING_DOCS\\VC29628_Vivek_Supporting Docs\\VC29628_degree_Vivek.pdf\n",
      "299941  C:\\Users\\vivek\\Desktop\\Miscellaneous\\ZS\\ONBOARDING_DOCS\\VC29628_Vivek_Supporting Docs\\VC29628_Offer Letter_Vivek.pdf\n",
      "117110  C:\\Users\\vivek\\Desktop\\Miscellaneous\\ZS\\ONBOARDING_DOCS\\VC29628_Vivek_Supporting Docs\\VC29628_PAN_Vivek.pdf\n",
      "222571  C:\\Users\\vivek\\Desktop\\Miscellaneous\\ZS\\ONBOARDING_DOCS\\VC29628_Vivek_Supporting Docs\\VC29628_Pay Slips_Vivek.pdf\n",
      "486819  C:\\Users\\vivek\\Desktop\\Miscellaneous\\ZS\\ONBOARDING_DOCS\\VC29628_Vivek_Supporting Docs\\VC29628_Resignation_Vivek.pdf\n",
      "4808287 C:\\Users\\vivek\\Desktop\\Miscellaneous\\ZS\\ONBOARDING_DOCS\\VC29628_Vivek_Supporting Docs\n",
      "4710439 C:\\Users\\vivek\\Desktop\\Miscellaneous\\ZS\\ONBOARDING_DOCS\\VC29628_Vivek_Supporting Docs.zip\n",
      "53680   C:\\Users\\vivek\\Desktop\\Miscellaneous\\ZS\\ONBOARDING_DOCS\\WORD_FILES\\VC29628_VIVEK_Declaration Form-UAN (PPF).docx\n",
      "40511   C:\\Users\\vivek\\Desktop\\Miscellaneous\\ZS\\ONBOARDING_DOCS\\WORD_FILES\\VC29628_VIVEK_Documents checklist.docx\n",
      "28217   C:\\Users\\vivek\\Desktop\\Miscellaneous\\ZS\\ONBOARDING_DOCS\\WORD_FILES\\VC29628_VIVEK_Employee details.docx\n",
      "31786   C:\\Users\\vivek\\Desktop\\Miscellaneous\\ZS\\ONBOARDING_DOCS\\WORD_FILES\\VC29628_VIVEK_Form 2- EPF Nomination Form.docx\n",
      "30757   C:\\Users\\vivek\\Desktop\\Miscellaneous\\ZS\\ONBOARDING_DOCS\\WORD_FILES\\VC29628_VIVEK_Gratuity  Form(f).docx\n",
      "36426   C:\\Users\\vivek\\Desktop\\Miscellaneous\\ZS\\ONBOARDING_DOCS\\WORD_FILES\\VC29628_VIVEK_Group medical insurance form.docx\n",
      "1191424 C:\\Users\\vivek\\Desktop\\Miscellaneous\\ZS\\ONBOARDING_DOCS\\WORD_FILES\\VC29628_VIVEK_Personnel Application form.doc\n",
      "1416897 C:\\Users\\vivek\\Desktop\\Miscellaneous\\ZS\\ONBOARDING_DOCS\\WORD_FILES\n",
      "12586430 C:\\Users\\vivek\\Desktop\\Miscellaneous\\ZS\\ONBOARDING_DOCS\n",
      "506036  C:\\Users\\vivek\\Desktop\\Miscellaneous\\ZS\\SignDocsGetPrintPackage.pdf\n",
      "1233859 C:\\Users\\vivek\\Desktop\\Miscellaneous\\ZS\\VC29628.jpg\n",
      "15500122 C:\\Users\\vivek\\Desktop\\Miscellaneous\\ZS\n"
     ]
    },
    {
     "data": {
      "text/plain": [
       "15500122"
      ]
     },
     "execution_count": 13,
     "metadata": {},
     "output_type": "execute_result"
    }
   ],
   "source": [
    "disk_usage(r'C:\\Users\\vivek\\Desktop\\Miscellaneous\\ZS')"
   ]
  },
  {
   "cell_type": "code",
   "execution_count": 22,
   "metadata": {},
   "outputs": [
    {
     "name": "stdout",
     "output_type": "stream",
     "text": [
      "No of integers1\n",
      "3\n",
      "[3]\n"
     ]
    }
   ],
   "source": [
    "def reverse_array(arr):\n",
    "    other=[]\n",
    "    for a in range(len(arr)):\n",
    "        other.append(arr.pop())\n",
    "    #print(type(other))\n",
    "    return other\n",
    "\n",
    "n=int(input(\"No of integers\"))\n",
    "arr = list(map(int,input().rstrip().split()))\n",
    "#print(type(arr))\n",
    "res = reverse_array(arr)\n",
    "print(res)"
   ]
  },
  {
   "cell_type": "code",
   "execution_count": 43,
   "metadata": {},
   "outputs": [
    {
     "name": "stdout",
     "output_type": "stream",
     "text": [
      "[1, 2, 3, 4, 5, 6, 7]\n",
      "[3, 4, 5, 6, 7, 1, 2]\n"
     ]
    }
   ],
   "source": [
    "a=[1, 2, 3, 4, 5,6,7]\n",
    "print(a)\n",
    "n=len(a)\n",
    "d=2\n",
    "temp=a[0:d]\n",
    "#print(temp)\n",
    "a[:]=a[d:n]+temp\n",
    "print(a)"
   ]
  },
  {
   "cell_type": "code",
   "execution_count": 46,
   "metadata": {},
   "outputs": [
    {
     "name": "stdout",
     "output_type": "stream",
     "text": [
      "[3, 4, 5, 6, 7, 1, 2]\n"
     ]
    }
   ],
   "source": [
    "a=[1, 2, 3, 4, 5,6,7]\n",
    "for j in range(d):\n",
    "    temp=a[0]\n",
    "    for i in range(n-1):\n",
    "        a[i]=a[i+1]\n",
    "    a[n-1]=temp\n",
    "print(a)"
   ]
  },
  {
   "cell_type": "code",
   "execution_count": 52,
   "metadata": {},
   "outputs": [
    {
     "name": "stdout",
     "output_type": "stream",
     "text": [
      "4\n",
      "5\n",
      "6\n",
      "7\n",
      "1\n",
      "2\n",
      "3\n"
     ]
    }
   ],
   "source": [
    "a=[1, 2, 3, 4, 5,6,7]\n",
    "d=3\n",
    "#print(d%len(a))\n",
    "\n",
    "for i in range(len(a)):\n",
    "    #print(((d%len(a)) + i) % n)\n",
    "    print(a[((d%len(a)) + i) % n])"
   ]
  },
  {
   "cell_type": "code",
   "execution_count": 53,
   "metadata": {},
   "outputs": [],
   "source": [
    "class Tree:\n",
    "    \n",
    "    class Position:\n",
    "        \n",
    "        def element(self):\n",
    "            raise NotImplementedError('must be implemented by subclass')\n",
    "        \n",
    "        def __eq__(self,other):\n",
    "            raise NotImplementedError('must be implemented by subclass')\n",
    "            \n",
    "        def __ne__(self,other):\n",
    "            return not(self==other)\n",
    "            \n",
    "    def root(self):\n",
    "        raise NotImplementedError('must be implemented by subclass')\n",
    "        \n",
    "    def parent(self,p):\n",
    "        raise NotImplementedError('must be implemented by subclass')\n",
    "        \n",
    "    def num_children(self,p):\n",
    "        raise NotImplementedError('must be implemented by subclass')\n",
    "        \n",
    "    def children(self,p):\n",
    "        raise NotImplementedError('must be implemented by subclass')\n",
    "        \n",
    "    def __len__(self):\n",
    "        raise NotImplementedError('must be implemented by subclass')\n",
    "        \n",
    "    def is_root(self,p):\n",
    "        return self.root()==p\n",
    "    \n",
    "    def is_leaf(self,p):\n",
    "        return self.num_children(p) == 0\n",
    "    \n",
    "    def is_empty(self):\n",
    "        return len(self) == 0"
   ]
  },
  {
   "cell_type": "code",
   "execution_count": 54,
   "metadata": {},
   "outputs": [],
   "source": [
    "def depth(self,p):\n",
    "    if self.is_root(p):\n",
    "        return 0\n",
    "    else:\n",
    "        return 1 + self.depth(self.parent(p))"
   ]
  },
  {
   "cell_type": "code",
   "execution_count": 55,
   "metadata": {},
   "outputs": [],
   "source": [
    "def _height1(self):\n",
    "    return max(self.depth(p) for p in self.positions() if self.is_leaf(p))"
   ]
  },
  {
   "cell_type": "code",
   "execution_count": 56,
   "metadata": {},
   "outputs": [],
   "source": [
    "def _height2(self,p):\n",
    "    if self.is_leaf(p):\n",
    "        return 0\n",
    "    else:\n",
    "        return 1 +max(self._height2(c) for c in self.children(p))"
   ]
  },
  {
   "cell_type": "code",
   "execution_count": 58,
   "metadata": {},
   "outputs": [],
   "source": [
    "def height(self, p=None):\n",
    "    if p is None:\n",
    "        p=self.root()\n",
    "    return self._height2(p)"
   ]
  },
  {
   "cell_type": "code",
   "execution_count": 59,
   "metadata": {},
   "outputs": [],
   "source": [
    "class BinaryTree(Tree):\n",
    "    \n",
    "    def left(self,p):\n",
    "        raise NotImplementedError('must be implemented by subclass')\n",
    "        \n",
    "    def right(self,p):\n",
    "        raise NotImplementedError('must be implemented by subclass')\n",
    "        \n",
    "    def sibling(self,p):\n",
    "        parent=self.parent(p)\n",
    "        if parent is None:\n",
    "            return None\n",
    "        else:\n",
    "            if p == self.left(parent):\n",
    "                return self.right(parent)\n",
    "            else:\n",
    "                return self.left(parent)\n",
    "    \n",
    "    def children(self,p):\n",
    "        if self.left(p) is not None:\n",
    "            yield self.left(p)\n",
    "        if self.right(p) is not None:\n",
    "            yield self.right(p)"
   ]
  },
  {
   "cell_type": "code",
   "execution_count": 62,
   "metadata": {},
   "outputs": [],
   "source": [
    "class LinkedBinaryTree(BinaryTree):\n",
    "    \n",
    "    class _Node:\n",
    "        \n",
    "        __slots__ = '_element','_parent','_left','_right'\n",
    "        \n",
    "        def __init__(self,element,parent=None, left=None, right=None):\n",
    "            self._element = element\n",
    "            self._parent = parent\n",
    "            self._left = left\n",
    "            self._right = right\n",
    "            \n",
    "    class Position(BinaryTree.Position):\n",
    "        \n",
    "        def __init__(self,container,node):\n",
    "            self._container = container\n",
    "            self._node = node\n",
    "            \n",
    "        def element(self):\n",
    "            return self._node._element\n",
    "        \n",
    "        def __eq__(self,other):\n",
    "            return type(other) is type(self) and other._node is self._node\n",
    "        \n",
    "        def validate(self,p):\n",
    "            if not isinstance(p,self.Position):\n",
    "                raise TypeError('p must be proper Position type')\n",
    "            if p._container is not self:\n",
    "                raise ValueError('p does not belong to this container')\n",
    "            if p._node._parent is p._node:\n",
    "                raise ValueError('p is no longer valid')\n",
    "            return p._node\n",
    "        \n",
    "        def _make_position(self, node):\n",
    "            return self.Position(self,node) if node is not None else None\n",
    "        \n",
    "    def __init__(self):\n",
    "        self._root = None\n",
    "        self._size = 0\n",
    "        \n",
    "    def __len__(self):\n",
    "        return self._size\n",
    "    \n",
    "    def root(self):\n",
    "        return self._make_position(self._root)\n",
    "    \n",
    "    def parent(self,p):\n",
    "        node = self._validate(p)\n",
    "        return self._make_position(node._parent)\n",
    "    \n",
    "    def left(self,p):\n",
    "        node = self.validate(p)\n",
    "        return self._make_position(node._left)\n",
    "    \n",
    "    def right(self,p):\n",
    "        node = self._validate(p)\n",
    "        return self._make_position(node._right)\n",
    "    \n",
    "    def num_children(self,p):\n",
    "        node = self._validate(p)\n",
    "        count = 0\n",
    "        if node._left is not None:\n",
    "            count += 1\n",
    "        if node._right is not None:\n",
    "            count += 1\n",
    "        return count\n",
    "    \n",
    "    def _add_root(self,e):\n",
    "        if self._root is not None:\n",
    "            raise ValueError('Root exists')\n",
    "        self._size = 1\n",
    "        self._root = self._Node(e)\n",
    "        return self._make_position(self._root)\n",
    "    \n",
    "    def _add_left(self,p,e):\n",
    "        node = self._validate(p)\n",
    "        if node._left is not None:\n",
    "            raise ValueError('Left child exists')\n",
    "        self._size += 1\n",
    "        node._left = self._Node(e,node)\n",
    "        return self._make_position(node._left)\n",
    "    \n",
    "    def _add_right(self,p,e):\n",
    "        node = self._validate(p)\n",
    "        if node._right is not None:\n",
    "            raise ValueError('Right child exists')\n",
    "        self._size += 1\n",
    "        node._right = self._Node(e,node)\n",
    "        return self._make_position(node._right)\n",
    "    \n",
    "    def _delete(self,p):\n",
    "        node = self._validate(p)\n",
    "        if self.num_children(p) == 2:\n",
    "            raise ValueError('p has two children')\n",
    "        child = node._left if node._left else node._right\n",
    "        if child is not None:\n",
    "            child._parent = node._parent\n",
    "        if node is self._root:\n",
    "            self._root = child\n",
    "        else:\n",
    "            parent = node._parent\n",
    "            if node is parent._left:\n",
    "                parent._left = child\n",
    "            else:\n",
    "                parent._right = child\n",
    "        self._size -= 1\n",
    "        node._parent =node\n",
    "        return node._element\n",
    "    \n",
    "    def _attach(self, p, t1, t2):\n",
    "        node = self._validate(p)\n",
    "        if not self.is_leaf(p):\n",
    "            raise ValueError('position must be leaf')\n",
    "        if not type(self) is type(t1) is type(t2):\n",
    "            raise TypeError('tress types must match')\n",
    "        self._size += len(t1) + len(t2)\n",
    "        if not t1.is_empty():\n",
    "            t1._root._parent = node\n",
    "            node._left = t1._root\n",
    "            t1._root = None\n",
    "            t1._size = 0\n",
    "        if not t2.is_empty():\n",
    "            t2._root._parent = node\n",
    "            node._left = t2._root\n",
    "            t2._root = None\n",
    "            t2._size = 0"
   ]
  },
  {
   "cell_type": "code",
   "execution_count": null,
   "metadata": {},
   "outputs": [],
   "source": [
    "\n"
   ]
  }
 ],
 "metadata": {
  "kernelspec": {
   "display_name": "Python 3",
   "language": "python",
   "name": "python3"
  },
  "language_info": {
   "codemirror_mode": {
    "name": "ipython",
    "version": 3
   },
   "file_extension": ".py",
   "mimetype": "text/x-python",
   "name": "python",
   "nbconvert_exporter": "python",
   "pygments_lexer": "ipython3",
   "version": "3.7.3"
  }
 },
 "nbformat": 4,
 "nbformat_minor": 2
}
